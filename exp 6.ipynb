{
  "nbformat": 4,
  "nbformat_minor": 0,
  "metadata": {
    "colab": {
      "provenance": []
    },
    "kernelspec": {
      "name": "python3",
      "display_name": "Python 3"
    },
    "language_info": {
      "name": "python"
    }
  },
  "cells": [
    {
      "cell_type": "code",
      "execution_count": 1,
      "metadata": {
        "id": "YkP8ra-uXgaB"
      },
      "outputs": [],
      "source": [
        "import pandas as pd\n",
        "import numpy as np\n",
        "import matplotlib.pyplot as plt"
      ]
    },
    {
      "cell_type": "code",
      "source": [
        "df = pd.read_csv('database.csv')"
      ],
      "metadata": {
        "id": "VhgOX_tmeDPE"
      },
      "execution_count": 3,
      "outputs": []
    },
    {
      "cell_type": "code",
      "source": [
        "df_cleaned = df.dropna()"
      ],
      "metadata": {
        "id": "Ukd1P3D1eQAj"
      },
      "execution_count": 4,
      "outputs": []
    },
    {
      "cell_type": "code",
      "source": [
        "df_filled = df.fillna(df.select_dtypes(include=np.number).mean()) # Select only numeric columns for calculating the mean"
      ],
      "metadata": {
        "id": "xRg_VOz5ejBA"
      },
      "execution_count": 5,
      "outputs": []
    },
    {
      "cell_type": "code",
      "source": [
        "df_filled = df.fillna(df.select_dtypes(include=np.number).mean()) # Select only numeric columns for calculating the mean"
      ],
      "metadata": {
        "id": "IadEPxaVeoyl"
      },
      "execution_count": 6,
      "outputs": []
    },
    {
      "cell_type": "code",
      "source": [
        "df_filled_mode = df.apply(lambda x: x.fillna(x.mode()[0]) if x.dtype == 'O' else x)\n",
        ""
      ],
      "metadata": {
        "id": "6RvWNu0Aevjw"
      },
      "execution_count": 7,
      "outputs": []
    },
    {
      "cell_type": "code",
      "source": [
        "Q1 = df.select_dtypes(include=np.number).quantile(0.25) # Select numeric columns for quantile calculations\n",
        "Q3 = df.select_dtypes(include=np.number).quantile(0.75) # Select numeric columns for quantile calculations\n",
        "IQR = Q3 - Q1"
      ],
      "metadata": {
        "id": "QROQBHaYe0oh"
      },
      "execution_count": 8,
      "outputs": []
    },
    {
      "cell_type": "code",
      "source": [
        "lower_bound = Q1 - 1.5 * IQR\n",
        "upper_bound = Q3 + 1.5 * IQR"
      ],
      "metadata": {
        "id": "OXT55oR2e38F"
      },
      "execution_count": 9,
      "outputs": []
    },
    {
      "cell_type": "code",
      "source": [
        "outliers = ((df.select_dtypes(include=np.number) < lower_bound) | (df.select_dtypes(include=np.number) > upper_bound))"
      ],
      "metadata": {
        "id": "nylbOSTkfBJs"
      },
      "execution_count": 10,
      "outputs": []
    },
    {
      "cell_type": "code",
      "source": [
        "df_no_outliers = df[~((df.select_dtypes(include=np.number) < lower_bound) | (df.select_dtypes(include=np.number) > upper_bound)).any(axis=1)]\n",
        ""
      ],
      "metadata": {
        "id": "nuZXlT97fFbG"
      },
      "execution_count": 11,
      "outputs": []
    },
    {
      "cell_type": "code",
      "source": [
        "df_capped = df.copy()\n",
        "numeric_df = df.select_dtypes(include=np.number) # Select numeric columns for comparison\n",
        "\n",
        "for col in numeric_df.columns:\n",
        "    df_capped.loc[numeric_df[col] < lower_bound[col], col] = lower_bound[col]\n",
        "    df_capped.loc[numeric_df[col] > upper_bound[col], col] = upper_bound[col]\n",
        ""
      ],
      "metadata": {
        "id": "NTJDJJ-DfOpW"
      },
      "execution_count": 12,
      "outputs": []
    },
    {
      "cell_type": "code",
      "source": [
        "df_imputed_outliers = df.copy()\n",
        "df_imputed_outliers[outliers] = np.nan"
      ],
      "metadata": {
        "id": "X_f7J23NfVex"
      },
      "execution_count": 13,
      "outputs": []
    },
    {
      "cell_type": "code",
      "source": [
        "numeric_df = df.select_dtypes(include=np.number)\n",
        "df_imputed_outliers = df_imputed_outliers.fillna(numeric_df.mean())"
      ],
      "metadata": {
        "id": "mUV-ZMrZfWDa"
      },
      "execution_count": 14,
      "outputs": []
    },
    {
      "cell_type": "code",
      "source": [
        "print(\"Original DataFrame:\\n\", df)\n",
        "print(\"DataFrame after handling missing values and outliers:\\n\", df_imputed_outliers)"
      ],
      "metadata": {
        "colab": {
          "base_uri": "https://localhost:8080/"
        },
        "id": "eo8hdCGvfcYq",
        "outputId": "985129e1-5bec-4de5-a627-ffe728a34df4"
      },
      "execution_count": 15,
      "outputs": [
        {
          "output_type": "stream",
          "name": "stdout",
          "text": [
            "Original DataFrame:\n",
            "      Name   Age  Height  Weight   Salary         City\n",
            "0    John  28.0   175.0    70.0  50000.0     New York\n",
            "1    Anna  24.0   160.0    55.0  62000.0  Los Angeles\n",
            "2   Peter  35.0   180.0    85.0  75000.0      Chicago\n",
            "3   Linda   NaN   165.0     NaN  48000.0      Houston\n",
            "4   James  29.0     NaN    68.0  53000.0      Phoenix\n",
            "5     Tom  45.0   182.0    90.0  90000.0      Seattle\n",
            "6    Sara   NaN   168.0    60.0      NaN       Boston\n",
            "7  George  32.0   177.0    85.0  70000.0        Miami\n",
            "8     Amy  22.0     NaN    55.0  61000.0       Dallas\n",
            "9    Ryan  33.0   180.0    75.0  80000.0       Denver\n",
            "DataFrame after handling missing values and outliers:\n",
            "      Name   Age   Height     Weight        Salary         City\n",
            "0    John  28.0  175.000  70.000000  50000.000000     New York\n",
            "1    Anna  24.0  160.000  55.000000  62000.000000  Los Angeles\n",
            "2   Peter  35.0  180.000  85.000000  75000.000000      Chicago\n",
            "3   Linda  31.0  165.000  71.444444  48000.000000      Houston\n",
            "4   James  29.0  173.375  68.000000  53000.000000      Phoenix\n",
            "5     Tom  31.0  182.000  90.000000  90000.000000      Seattle\n",
            "6    Sara  31.0  168.000  60.000000  65444.444444       Boston\n",
            "7  George  32.0  177.000  85.000000  70000.000000        Miami\n",
            "8     Amy  22.0  173.375  55.000000  61000.000000       Dallas\n",
            "9    Ryan  33.0  180.000  75.000000  80000.000000       Denver\n"
          ]
        }
      ]
    }
  ]
}